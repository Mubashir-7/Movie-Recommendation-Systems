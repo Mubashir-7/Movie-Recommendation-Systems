{
  "nbformat": 4,
  "nbformat_minor": 0,
  "metadata": {
    "colab": {
      "provenance": []
    },
    "kernelspec": {
      "name": "python3",
      "display_name": "Python 3"
    },
    "language_info": {
      "name": "python"
    }
  },
  "cells": [
    {
      "cell_type": "code",
      "execution_count": 11,
      "metadata": {
        "colab": {
          "base_uri": "https://localhost:8080/"
        },
        "id": "P8L6Tb3Wm_dd",
        "outputId": "c938a757-e5a6-4b9d-d90a-0c37a214abe8"
      },
      "outputs": [
        {
          "output_type": "stream",
          "name": "stdout",
          "text": [
            "Model Accuracy: 99.72%\n",
            "Enter a movie name: dabangg\n",
            "Enter the movie genre: action drama\n",
            "Enter the expected rating (0-10): 6.3\n",
            "Recommended Movies:\n",
            "             Movie Name                  Genre  Rating(10)\n",
            "40711           dabangg          action comedy         6.2\n",
            "46723         dabangg 3          action comedy         3.2\n",
            "7136          dabangg 2          action comedy         4.8\n",
            "16146         dabangg 3          action comedy         3.2\n",
            "38970         dabangg 3          action comedy         3.2\n",
            "49621         dabangg 3          action comedy         3.2\n",
            "32995  he  the only one                 action         NaN\n",
            "29851  enough is enough                 action         NaN\n",
            "43444          take off  action drama thriller         8.2\n",
            "12958                 e  action drama thriller         6.3\n"
          ]
        }
      ],
      "source": [
        "import pandas as pd\n",
        "import numpy as np\n",
        "from sklearn.feature_extraction.text import TfidfVectorizer\n",
        "from sklearn.neighbors import NearestNeighbors\n",
        "from sklearn.model_selection import train_test_split\n",
        "from sklearn.metrics.pairwise import cosine_similarity\n",
        "import re\n",
        "\n",
        "# Load Dataset\n",
        "df = pd.read_csv(\"indian movies.csv\", encoding='utf-8')\n",
        "\n",
        "# Data Cleaning\n",
        "def clean_text(text):\n",
        "    if pd.isna(text):\n",
        "        return \"unknown\"\n",
        "    text = text.lower().strip()\n",
        "    text = re.sub(r'[^a-zA-Z0-9\\s]', '', text)  # Remove special characters\n",
        "    return text\n",
        "\n",
        "df[\"Year\"] = pd.to_numeric(df[\"Year\"], errors='coerce')\n",
        "df[\"Timing(min)\"] = df[\"Timing(min)\"].str.extract('(\\\\d+)').astype(float)\n",
        "df[\"Rating(10)\"] = pd.to_numeric(df[\"Rating(10)\"], errors='coerce')\n",
        "df[\"Votes\"] = df[\"Votes\"].str.replace(',', '', regex=True)\n",
        "df[\"Votes\"] = pd.to_numeric(df[\"Votes\"], errors='coerce')\n",
        "df[\"Genre\"] = df[\"Genre\"].replace(\"-\", np.nan).fillna(\"Unknown\").apply(clean_text)\n",
        "df[\"Language\"] = df[\"Language\"].apply(clean_text)\n",
        "df[\"Movie Name\"] = df[\"Movie Name\"].apply(clean_text)\n",
        "\n",
        "# Create a combined feature for NLP processing\n",
        "df[\"Features\"] = df[\"Movie Name\"] + \" \" + df[\"Genre\"] + \" \" + df[\"Rating(10)\"].astype(str) + \" \" + df[\"Language\"]\n",
        "df[\"Features\"] = df[\"Features\"].fillna(\"unknown\")\n",
        "\n",
        "# TF-IDF Vectorization\n",
        "tfidf = TfidfVectorizer(stop_words='english')\n",
        "feature_matrix = tfidf.fit_transform(df[\"Features\"])\n",
        "\n",
        "# Train-Test Split\n",
        "X_train, X_test, y_train, y_test = train_test_split(feature_matrix, df[\"Movie Name\"], test_size=0.2, random_state=42)\n",
        "\n",
        "# Nearest Neighbors Model\n",
        "nn_model = NearestNeighbors(n_neighbors=10, metric='cosine', algorithm='brute')\n",
        "nn_model.fit(feature_matrix)\n",
        "\n",
        "# Evaluate Model\n",
        "def evaluate_model():\n",
        "    similarities = cosine_similarity(X_test, feature_matrix)\n",
        "    correct_predictions = 0\n",
        "    total_predictions = len(X_test.toarray())\n",
        "\n",
        "    for i in range(total_predictions):\n",
        "        predicted_idx = np.argmax(similarities[i])\n",
        "        predicted_movie = df.iloc[predicted_idx][\"Movie Name\"]\n",
        "        actual_movie = y_test.iloc[i]\n",
        "        if predicted_movie == actual_movie:\n",
        "            correct_predictions += 1\n",
        "\n",
        "    accuracy = correct_predictions / total_predictions\n",
        "    return accuracy\n",
        "\n",
        "accuracy = evaluate_model()\n",
        "print(f\"Model Accuracy: {accuracy * 100:.2f}%\")\n",
        "\n",
        "# Recommendation Function\n",
        "def recommend_movies(title, genre, rating, top_n=10):\n",
        "    title = clean_text(title)\n",
        "    genre = clean_text(genre)\n",
        "    input_features = tfidf.transform([title + \" \" + genre + \" \" + str(rating)])\n",
        "    distances, indices = nn_model.kneighbors(input_features, n_neighbors=top_n)\n",
        "    return df.iloc[indices[0]][[\"Movie Name\", \"Genre\", \"Rating(10)\"]]\n",
        "\n",
        "# User Input\n",
        "user_title = input(\"Enter a movie name: \")\n",
        "user_genre = input(\"Enter the movie genre: \")\n",
        "user_rating = float(input(\"Enter the expected rating (0-10): \"))\n",
        "\n",
        "# Get Recommendations\n",
        "print(\"Recommended Movies:\")\n",
        "print(recommend_movies(user_title, user_genre, user_rating))\n"
      ]
    }
  ]
}